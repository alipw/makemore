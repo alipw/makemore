{
 "cells": [
  {
   "cell_type": "code",
   "execution_count": 1295,
   "metadata": {},
   "outputs": [],
   "source": [
    "import torch"
   ]
  },
  {
   "cell_type": "code",
   "execution_count": 44,
   "id": "dc53fe35",
   "metadata": {},
   "outputs": [],
   "source": [
    "words = open(\"names.txt\", \"r\").read().splitlines()  # this does things"
   ]
  },
  {
   "cell_type": "code",
   "execution_count": 120,
   "id": "2f0e4da2",
   "metadata": {},
   "outputs": [],
   "source": [
    "chars = sorted(list(set(''.join(words))))\n",
    "chars = ['.'] + chars\n",
    "stoi = {s: i for i, s in enumerate(chars)}\n",
    "itos = {i: s for i, s in enumerate(chars)}"
   ]
  },
  {
   "cell_type": "code",
   "execution_count": 1554,
   "id": "f0fc7275",
   "metadata": {},
   "outputs": [],
   "source": [
    "N = torch.zeros((27, 27), dtype=torch.int32)\n",
    "b = {}\n",
    "for w in words:\n",
    "    chs = \".\" + w + \".\"\n",
    "    for bi in zip(chs, chs[1:]):\n",
    "        N[stoi[bi[0]], stoi[bi[1]]] += 1"
   ]
  },
  {
   "cell_type": "code",
   "execution_count": null,
   "id": "6ea9c6ba",
   "metadata": {},
   "outputs": [],
   "source": [
    "import matplotlib.pyplot as plt\n",
    "%matplotlib inline\n",
    "\n",
    "plt.figure(figsize=(18,18))\n",
    "plt.imshow(N, cmap='Blues')\n",
    "for i in range(27):\n",
    "    for j in range(27):\n",
    "        bigra = itos[i] + itos[j]\n",
    "        plt.text(j, i, bigra, ha=\"center\", va=\"bottom\", color=\"gray\")\n",
    "        plt.text(j, i, P[i, j].item(),ha=\"center\", va=\"top\", color=\"gray\")\n",
    "plt.axis('off')"
   ]
  },
  {
   "attachments": {},
   "cell_type": "markdown",
   "id": "6f6e2dfc",
   "metadata": {},
   "source": [
    "with keepdim:  \n",
    "```\n",
    "27 27   \n",
    "27 1  // there are 27 scalars in the 0th dimension, and that scalar will be multiplied to each othe 27 elements in the first dimension\n",
    "----- /\n",
    "27 27 \n",
    "```   \n",
    "\n",
    "without keepdim\n",
    "\n",
    "```\n",
    "27 27   \n",
    " 1 27  // there are 27 scalars in the 0th dimension, and that scalar will be applied to each of the 27 elements in the \n",
    "----- /\n",
    "27 27 \n",
    "```   "
   ]
  },
  {
   "cell_type": "code",
   "execution_count": 1555,
   "id": "b87208f0",
   "metadata": {},
   "outputs": [],
   "source": [
    "P = (N).float()\n",
    "P = P.pow(1.1)\n",
    "P /= P.sum(1, keepdim=True)\n",
    "# this will do things\n",
    "# P.shape, P.sum(1, keepdim=True).shape"
   ]
  },
  {
   "cell_type": "code",
   "execution_count": 1556,
   "id": "b26767bf",
   "metadata": {},
   "outputs": [
    {
     "name": "stdout",
     "output_type": "stream",
     "text": [
      "junide.\n",
      "janasah.\n",
      "prelay.\n",
      "a.\n",
      "nn.\n",
      "kai.\n",
      "ritolia.\n",
      "s.\n",
      "tee.\n",
      "kalanaauranilevias.\n"
     ]
    }
   ],
   "source": [
    "g = torch.Generator().manual_seed(2147483647)\n",
    "for _ in range(10):\n",
    "    ix = 0\n",
    "    name = ''\n",
    "    while True:\n",
    "        p = P[ix]\n",
    "        ix = torch.multinomial(p, 1, True, generator=g).item()\n",
    "        name += itos[ix]\n",
    "        if ix == 0:\n",
    "            break\n",
    "    print(name)"
   ]
  },
  {
   "cell_type": "code",
   "execution_count": 1594,
   "id": "daddc75b",
   "metadata": {},
   "outputs": [
    {
     "data": {
      "text/plain": [
       "(tensor([0.0003, 0.1377, 0.0408, 0.0481, 0.0527, 0.0478, 0.0130, 0.0209, 0.0273,\n",
       "         0.0184, 0.0756, 0.0925, 0.0491, 0.0792, 0.0358, 0.0123, 0.0161, 0.0029,\n",
       "         0.0512, 0.0641, 0.0408, 0.0024, 0.0117, 0.0096, 0.0042, 0.0167, 0.0290],\n",
       "        grad_fn=<SelectBackward0>),\n",
       " tensor([0.0000, 0.1512, 0.0396, 0.0476, 0.0526, 0.0472, 0.0113, 0.0190, 0.0255,\n",
       "         0.0166, 0.0782, 0.0976, 0.0486, 0.0823, 0.0343, 0.0106, 0.0142, 0.0021,\n",
       "         0.0509, 0.0653, 0.0397, 0.0018, 0.0101, 0.0081, 0.0032, 0.0149, 0.0273]))"
      ]
     },
     "execution_count": 1594,
     "metadata": {},
     "output_type": "execute_result"
    }
   ],
   "source": [
    "probs[0],P[0]"
   ]
  },
  {
   "cell_type": "code",
   "execution_count": 1478,
   "id": "a473f9ae",
   "metadata": {},
   "outputs": [
    {
     "name": "stdout",
     "output_type": "stream",
     "text": [
      "log_likelihood=tensor(-560716.7500)\n",
      "2.4577102661132812\n"
     ]
    }
   ],
   "source": [
    "log_likelihood = 0\n",
    "n = 0\n",
    "for w in words:\n",
    "    chs = \".\" + w + \".\"\n",
    "    for c1, c2 in zip(chs, chs[1:]):\n",
    "        ix1 = stoi[c1]\n",
    "        ix2 = stoi[c2]\n",
    "        prob = P[ix1, ix2]\n",
    "        logprob = torch.log(prob)\n",
    "        log_likelihood += logprob\n",
    "        n += 1\n",
    "\n",
    "print(f'{log_likelihood=}')\n",
    "print(f'{-log_likelihood/n}')"
   ]
  },
  {
   "cell_type": "code",
   "execution_count": null,
   "id": "6091e484",
   "metadata": {},
   "outputs": [],
   "source": [
    "nlls = torch.tensor(0).float()\n",
    "for x,y in zip(xs, ys):\n",
    "    x = x.argmax().item()\n",
    "    y = y.argmax().item()\n",
    "    # get probability of the correct answer given by the network\n",
    "    W.zero_grad\n",
    "    p = probs[x,y]\n",
    "    logp = torch.log(p)\n",
    "    nll = -logp\n",
    "    nll.backward()\n",
    "    nlls += nll\n",
    "nlls / len(xs)\n"
   ]
  },
  {
   "cell_type": "code",
   "execution_count": 1261,
   "id": "138e2204",
   "metadata": {},
   "outputs": [],
   "source": [
    "xs = []\n",
    "ys = []\n",
    "for w in words:\n",
    "    chs = \".\" + w + \".\"\n",
    "    for (ch1, ch2) in zip(chs, chs[1:]):\n",
    "        ix1 = stoi[ch1]\n",
    "        ix2 = stoi[ch2]\n",
    "        xs.append(ix1)\n",
    "        ys.append(ix2)\n",
    "\n",
    "xs = torch.nn.functional.one_hot(torch.tensor(xs), num_classes=27).float()"
   ]
  },
  {
   "cell_type": "code",
   "execution_count": 1331,
   "id": "509e4555",
   "metadata": {},
   "outputs": [],
   "source": [
    "W = torch.randn((27, 27), requires_grad=True).float()"
   ]
  },
  {
   "cell_type": "code",
   "execution_count": 1461,
   "id": "834cd0a2",
   "metadata": {},
   "outputs": [
    {
     "name": "stdout",
     "output_type": "stream",
     "text": [
      "2.4567551612854004\n",
      "2.456754684448242\n",
      "2.456754207611084\n",
      "2.4567534923553467\n",
      "2.4567527770996094\n",
      "2.456752300262451\n",
      "2.4567513465881348\n",
      "2.4567508697509766\n",
      "2.4567503929138184\n",
      "2.456749677658081\n",
      "2.4567489624023438\n",
      "2.4567482471466064\n",
      "2.456747531890869\n",
      "2.456747055053711\n",
      "2.4567463397979736\n",
      "2.4567458629608154\n",
      "2.4567453861236572\n",
      "2.456744909286499\n",
      "2.4567441940307617\n",
      "2.4567434787750244\n"
     ]
    }
   ],
   "source": [
    "for i in range(20):\n",
    "    logits = xs @ W\n",
    "    counts = logits.exp()\n",
    "    probs = counts / counts.sum(1, keepdim=True)\n",
    "    loss = -probs[torch.arange(len(xs)), ys].log().mean()\n",
    "    W.grad = None\n",
    "    loss.backward()\n",
    "    W.data -= 5 * W.grad\n",
    "    print(loss.item())"
   ]
  },
  {
   "cell_type": "code",
   "execution_count": 1547,
   "id": "6e4ef3f5",
   "metadata": {},
   "outputs": [
    {
     "name": "stdout",
     "output_type": "stream",
     "text": [
      "ciia.\n",
      "r.\n",
      "myejkiiianayllcarlnav.\n",
      "kra.\n",
      "conemnovyo.\n",
      "qalanialeyalm.\n",
      "jkjniaweto.\n",
      "temh.\n",
      "jnala.\n",
      "arugitrala.\n"
     ]
    }
   ],
   "source": [
    "\n",
    "g = torch.Generator().manual_seed(2147483647)\n",
    "for _ in range(10):\n",
    "    ix = 0\n",
    "    name = ''\n",
    "    while True:\n",
    "        p = probs[ix]\n",
    "        ix = torch.multinomial(p, 1, True).item()\n",
    "        name += itos[ix]\n",
    "        if ix == 0:\n",
    "            break\n",
    "    print(name)"
   ]
  }
 ],
 "metadata": {
  "kernelspec": {
   "display_name": "Python 3",
   "language": "python",
   "name": "python3"
  },
  "language_info": {
   "codemirror_mode": {
    "name": "ipython",
    "version": 3
   },
   "file_extension": ".py",
   "mimetype": "text/x-python",
   "name": "python",
   "nbconvert_exporter": "python",
   "pygments_lexer": "ipython3",
   "version": "3.11.3"
  }
 },
 "nbformat": 4,
 "nbformat_minor": 5
}
